{
 "cells": [
  {
   "cell_type": "markdown",
   "metadata": {},
   "source": [
    "### Use groups to manage permissions not users.\n",
    "By using groups, you can always change the users access and \"combine\" multiple groups by adding the user to multiple groups.\n",
    "\n",
    "Think of groups as projects. Each project is a group with permissions, project members are added and are \"dumb\" on permissions level.\n",
    "\n",
    "For this I did the following\n",
    "\n",
    "- Created user TestPermissionsSDK\n",
    "- Created group TestPermissionsSDK\n",
    "- Added user to group"
   ]
  },
  {
   "cell_type": "code",
   "execution_count": 20,
   "metadata": {},
   "outputs": [],
   "source": [
    "# Unpack tesselate\n",
    "!tar -zxf /home/jupyter/examples/tesselate/src/tesselate-0.1.2.tar.gz -C /home/jupyter/examples/tesselate/src/\n",
    "\n",
    "# Add package to python path.\n",
    "import sys\n",
    "sys.path.append('/home/jupyter/examples/tesselate/src/tesselate-0.1.2')\n",
    "\n",
    "# Import tesselate.\n",
    "from tesselate import Tesselate\n",
    "\n",
    "# Instantiate two tesselate instances, one for master user one for invitee.\n",
    "ts_daniel = Tesselate()\n",
    "ts_daniel.client.set_token('18c4db3f2c51a1982cc66b6134759f8729250e47')\n",
    "\n",
    "ts_other = Tesselate()\n",
    "ts_other.client.set_token('947a18998c6626377643c913e40b6d384e39c5c6')"
   ]
  },
  {
   "cell_type": "markdown",
   "metadata": {},
   "source": [
    "### Get group, and invite to two formulas. Check group member has additional formulas."
   ]
  },
  {
   "cell_type": "code",
   "execution_count": 23,
   "metadata": {},
   "outputs": [
    {
     "name": "stdout",
     "output_type": "stream",
     "text": [
      "Target group name is TestPermissionsSDK\n",
      "Other user has 2 formulas.\n",
      "Other user has 0 formulas.\n",
      "Other user has 2 formulas.\n"
     ]
    }
   ],
   "source": [
    "target_group = ts_daniel.group(search='TestPermissionsSDK')[0]\n",
    "print('Target group name is {}'.format(target_group['name']))\n",
    "\n",
    "# Get formulas.\n",
    "rgb = ts_daniel.formula(search='RGB')[0]\n",
    "ndvi = ts_daniel.formula(search='NDVI')[0]\n",
    "\n",
    "# Invite group to RGB and NDVI.\n",
    "print('Other user has {} formulas.'.format(len(ts_other.formula())))\n",
    "\n",
    "ts_daniel.formula(pk=rgb['id'], action='exclude', permission='view', invitee=target_group)\n",
    "ts_daniel.formula(pk=ndvi['id'], action='exclude', permission='view', invitee=target_group)\n",
    "print('Other user has {} formulas.'.format(len(ts_other.formula())))\n",
    "\n",
    "ts_daniel.formula(pk=rgb['id'], action='invite', permission='view', invitee=target_group)\n",
    "ts_daniel.formula(pk=ndvi['id'], action='invite', permission='view', invitee=target_group)\n",
    "\n",
    "print('Other user has {} formulas.'.format(len(ts_other.formula())))"
   ]
  },
  {
   "cell_type": "markdown",
   "metadata": {},
   "source": [
    "### Add aggregationlayer to group"
   ]
  },
  {
   "cell_type": "code",
   "execution_count": 24,
   "metadata": {},
   "outputs": [
    {
     "name": "stdout",
     "output_type": "stream",
     "text": [
      "Other user has 4 regions.\n",
      "Other user has 3 regions.\n",
      "Other user has 4 regions.\n"
     ]
    }
   ],
   "source": [
    "ethiopia = ts_daniel.region(search='Ethiopia')[0]\n",
    "\n",
    "print('Other user has {} regions.'.format(len(ts_other.region())))\n",
    "\n",
    "ts_daniel.region(pk=ethiopia['id'], action='exclude', permission='view', invitee=target_group)\n",
    "print('Other user has {} regions.'.format(len(ts_other.region())))\n",
    "\n",
    "ts_daniel.region(pk=ethiopia['id'], action='invite', permission='view', invitee=target_group)\n",
    "print('Other user has {} regions.'.format(len(ts_other.region())))"
   ]
  },
  {
   "cell_type": "markdown",
   "metadata": {},
   "source": [
    "### Add composite to group"
   ]
  },
  {
   "cell_type": "code",
   "execution_count": 25,
   "metadata": {},
   "outputs": [
    {
     "name": "stdout",
     "output_type": "stream",
     "text": [
      "Other user has 1 composites.\n",
      "Other user has 0 composites.\n",
      "Other user has 1 composites.\n"
     ]
    }
   ],
   "source": [
    "march_2018 = ts_daniel.composite(search='March 2018')[0]\n",
    "\n",
    "print('Other user has {} composites.'.format(len(ts_other.composite())))\n",
    "\n",
    "ts_daniel.composite(pk=march_2018['id'], action='exclude', permission='view', invitee=target_group)\n",
    "print('Other user has {} composites.'.format(len(ts_other.composite())))\n",
    "\n",
    "ts_daniel.composite(pk=march_2018['id'], action='invite', permission='view', invitee=target_group)\n",
    "print('Other user has {} composites.'.format(len(ts_other.composite())))"
   ]
  },
  {
   "cell_type": "markdown",
   "metadata": {},
   "source": [
    "### Done\n",
    "The user can now see two formulas, one private region and three public regions, and one composite. You can easily confirm this by logging into tesselo with the new user."
   ]
  }
 ],
 "metadata": {
  "kernelspec": {
   "display_name": "Python 3",
   "language": "python",
   "name": "python3"
  },
  "language_info": {
   "codemirror_mode": {
    "name": "ipython",
    "version": 3
   },
   "file_extension": ".py",
   "mimetype": "text/x-python",
   "name": "python",
   "nbconvert_exporter": "python",
   "pygments_lexer": "ipython3",
   "version": "3.5.2"
  }
 },
 "nbformat": 4,
 "nbformat_minor": 2
}
